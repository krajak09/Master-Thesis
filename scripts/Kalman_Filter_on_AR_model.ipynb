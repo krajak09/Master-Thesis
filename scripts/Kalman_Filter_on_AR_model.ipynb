{
  "nbformat": 4,
  "nbformat_minor": 0,
  "metadata": {
    "colab": {
      "provenance": [],
      "authorship_tag": "ABX9TyPgiE6hrRJzfs7KuXlc+Gh1",
      "include_colab_link": true
    },
    "kernelspec": {
      "name": "python3",
      "display_name": "Python 3"
    },
    "language_info": {
      "name": "python"
    }
  },
  "cells": [
    {
      "cell_type": "markdown",
      "metadata": {
        "id": "view-in-github",
        "colab_type": "text"
      },
      "source": [
        "<a href=\"https://colab.research.google.com/github/krajak09/Master-Thesis/blob/main/scripts/Kalman_Filter_on_AR_model.ipynb\" target=\"_parent\"><img src=\"https://colab.research.google.com/assets/colab-badge.svg\" alt=\"Open In Colab\"/></a>"
      ]
    },
    {
      "cell_type": "code",
      "source": [
        "!pip install filterpy"
      ],
      "metadata": {
        "colab": {
          "base_uri": "https://localhost:8080/"
        },
        "collapsed": true,
        "id": "1ZdEqIT53XNb",
        "outputId": "a770fc41-7da8-4b46-d00d-f53ad2ae502d"
      },
      "execution_count": null,
      "outputs": [
        {
          "output_type": "stream",
          "name": "stdout",
          "text": [
            "Requirement already satisfied: filterpy in /usr/local/lib/python3.11/dist-packages (1.4.5)\n",
            "Requirement already satisfied: numpy in /usr/local/lib/python3.11/dist-packages (from filterpy) (2.0.2)\n",
            "Requirement already satisfied: scipy in /usr/local/lib/python3.11/dist-packages (from filterpy) (1.16.1)\n",
            "Requirement already satisfied: matplotlib in /usr/local/lib/python3.11/dist-packages (from filterpy) (3.10.0)\n",
            "Requirement already satisfied: contourpy>=1.0.1 in /usr/local/lib/python3.11/dist-packages (from matplotlib->filterpy) (1.3.3)\n",
            "Requirement already satisfied: cycler>=0.10 in /usr/local/lib/python3.11/dist-packages (from matplotlib->filterpy) (0.12.1)\n",
            "Requirement already satisfied: fonttools>=4.22.0 in /usr/local/lib/python3.11/dist-packages (from matplotlib->filterpy) (4.59.0)\n",
            "Requirement already satisfied: kiwisolver>=1.3.1 in /usr/local/lib/python3.11/dist-packages (from matplotlib->filterpy) (1.4.8)\n",
            "Requirement already satisfied: packaging>=20.0 in /usr/local/lib/python3.11/dist-packages (from matplotlib->filterpy) (25.0)\n",
            "Requirement already satisfied: pillow>=8 in /usr/local/lib/python3.11/dist-packages (from matplotlib->filterpy) (11.3.0)\n",
            "Requirement already satisfied: pyparsing>=2.3.1 in /usr/local/lib/python3.11/dist-packages (from matplotlib->filterpy) (3.2.3)\n",
            "Requirement already satisfied: python-dateutil>=2.7 in /usr/local/lib/python3.11/dist-packages (from matplotlib->filterpy) (2.9.0.post0)\n",
            "Requirement already satisfied: six>=1.5 in /usr/local/lib/python3.11/dist-packages (from python-dateutil>=2.7->matplotlib->filterpy) (1.17.0)\n"
          ]
        }
      ]
    },
    {
      "cell_type": "markdown",
      "source": [
        "**Autoregressive model (AR)**\n",
        "\n",
        "The most basic autoregressive (AR) model is of order 1, denoted by AR(1), given as\n",
        "\\begin{align}\n",
        "x_t = \\phi_0 + \\phi_1x_{t-1} + ϵ_t,\n",
        "\\end{align}\n",
        "where $\\phi_0$ and $\\phi_1$ (as well as the variance $σ^2$ of the noise term $\\epsilon_t$) are the parameters of the model to be determined via a fitting procedure on historical data. This model attemps to capture any linear dependency between the consecutive returns. More generally, an autoregressive model of order p, AR(p), is given by\n",
        "\\begin{align}\n",
        "x_t = \\phi_0 +\\sum_{i=1}^p \\phi_i x_{t-i} + \\epsilon_t,\n",
        "\\end{align}\n",
        "which now contains more parameters, $\\phi_0, . . . , \\phi_p$ and $\\sigma^2$, to be fitted (also, the order $p$ has to be determined).\n",
        "\n",
        "\\cite{palomar:portfolio_optimization}"
      ],
      "metadata": {
        "id": "1BVwPu5IYJiv"
      }
    },
    {
      "cell_type": "code",
      "source": [
        "import numpy as np\n",
        "import pandas as pd\n",
        "import matplotlib.pyplot as plt\n",
        "from filterpy.kalman import KalmanFilter"
      ],
      "metadata": {
        "id": "5OjAl9LqHZTu"
      },
      "execution_count": null,
      "outputs": []
    },
    {
      "cell_type": "markdown",
      "source": [
        "We have to convert the AR(p) into a linear state space form and then write a Kalman Filter for AR(p)."
      ],
      "metadata": {
        "id": "ERzTIEHx1u0t"
      }
    },
    {
      "cell_type": "code",
      "source": [
        "def ar_to_ssm(phi, ):\n",
        "  p = len(phi)\n",
        "\n",
        "  F = np.zeroes((p,p))\n",
        "\n",
        "  H = np.array([[1., p.]])\n",
        "\n",
        "  Q = np.zeros((p,p))\n",
        "\n",
        "  R = np.array()\n",
        "\n",
        "  return F, H, Q, R\n"
      ],
      "metadata": {
        "id": "eHoXPtR9YIp0"
      },
      "execution_count": null,
      "outputs": []
    },
    {
      "cell_type": "code",
      "source": [
        "def kf_for_ar():\n",
        "\n",
        "  return"
      ],
      "metadata": {
        "id": "ExqNTeZ43SFE"
      },
      "execution_count": null,
      "outputs": []
    },
    {
      "cell_type": "code",
      "source": [
        "# Plot results\n",
        "plt.figure(figsize=(12, 6))\n",
        "plt.plot(true_positions, label='')\n",
        "plt.plot(measurements, label='', linestyle='dotted')\n",
        "plt.plot(estimated_positions, label=' ')x\n",
        "plt.title('Kalman Filter with AR(p)')\n",
        "plt.legend()\n",
        "plt.grid(True)\n",
        "plt.show()"
      ],
      "metadata": {
        "id": "-vIdy4iH4ZTq"
      },
      "execution_count": null,
      "outputs": []
    }
  ]
}