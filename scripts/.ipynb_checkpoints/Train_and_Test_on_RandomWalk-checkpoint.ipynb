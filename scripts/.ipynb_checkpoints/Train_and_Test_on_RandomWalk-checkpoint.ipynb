{
  "nbformat": 4,
  "nbformat_minor": 0,
  "metadata": {
    "colab": {
      "provenance": [],
      "authorship_tag": "ABX9TyPhGdwQ/czFJSqxwT48n4zA",
      "include_colab_link": true
    },
    "kernelspec": {
      "name": "python3",
      "display_name": "Python 3"
    },
    "language_info": {
      "name": "python"
    }
  },
  "cells": [
    {
      "cell_type": "markdown",
      "metadata": {
        "id": "view-in-github",
        "colab_type": "text"
      },
      "source": [
        "<a href=\"https://colab.research.google.com/github/krajak09/Master-Thesis/blob/main/scripts/Train_and_Test_on_RandomWalk.ipynb\" target=\"_parent\"><img src=\"https://colab.research.google.com/assets/colab-badge.svg\" alt=\"Open In Colab\"/></a>"
      ]
    },
    {
      "cell_type": "code",
      "execution_count": 1,
      "metadata": {
        "colab": {
          "base_uri": "https://localhost:8080/"
        },
        "id": "zL59UgJTq_Rb",
        "outputId": "fc4d96f2-6ba7-4dee-cb38-d279d0753568"
      },
      "outputs": [
        {
          "output_type": "stream",
          "name": "stdout",
          "text": [
            "Collecting filterpy\n",
            "  Downloading filterpy-1.4.5.zip (177 kB)\n",
            "\u001b[?25l     \u001b[90m━━━━━━━━━━━━━━━━━━━━━━━━━━━━━━━━━━━━━━━━\u001b[0m \u001b[32m0.0/178.0 kB\u001b[0m \u001b[31m?\u001b[0m eta \u001b[36m-:--:--\u001b[0m\r\u001b[2K     \u001b[91m━━━━━━━━━━━━━━━━━━━━━━━━━━━━━━━━━━━━━━\u001b[0m\u001b[90m╺\u001b[0m \u001b[32m174.1/178.0 kB\u001b[0m \u001b[31m6.3 MB/s\u001b[0m eta \u001b[36m0:00:01\u001b[0m\r\u001b[2K     \u001b[90m━━━━━━━━━━━━━━━━━━━━━━━━━━━━━━━━━━━━━━━\u001b[0m \u001b[32m178.0/178.0 kB\u001b[0m \u001b[31m3.1 MB/s\u001b[0m eta \u001b[36m0:00:00\u001b[0m\n",
            "\u001b[?25h  Preparing metadata (setup.py) ... \u001b[?25l\u001b[?25hdone\n",
            "Requirement already satisfied: numpy in /usr/local/lib/python3.12/dist-packages (from filterpy) (2.0.2)\n",
            "Requirement already satisfied: scipy in /usr/local/lib/python3.12/dist-packages (from filterpy) (1.16.2)\n",
            "Requirement already satisfied: matplotlib in /usr/local/lib/python3.12/dist-packages (from filterpy) (3.10.0)\n",
            "Requirement already satisfied: contourpy>=1.0.1 in /usr/local/lib/python3.12/dist-packages (from matplotlib->filterpy) (1.3.3)\n",
            "Requirement already satisfied: cycler>=0.10 in /usr/local/lib/python3.12/dist-packages (from matplotlib->filterpy) (0.12.1)\n",
            "Requirement already satisfied: fonttools>=4.22.0 in /usr/local/lib/python3.12/dist-packages (from matplotlib->filterpy) (4.60.0)\n",
            "Requirement already satisfied: kiwisolver>=1.3.1 in /usr/local/lib/python3.12/dist-packages (from matplotlib->filterpy) (1.4.9)\n",
            "Requirement already satisfied: packaging>=20.0 in /usr/local/lib/python3.12/dist-packages (from matplotlib->filterpy) (25.0)\n",
            "Requirement already satisfied: pillow>=8 in /usr/local/lib/python3.12/dist-packages (from matplotlib->filterpy) (11.3.0)\n",
            "Requirement already satisfied: pyparsing>=2.3.1 in /usr/local/lib/python3.12/dist-packages (from matplotlib->filterpy) (3.2.4)\n",
            "Requirement already satisfied: python-dateutil>=2.7 in /usr/local/lib/python3.12/dist-packages (from matplotlib->filterpy) (2.9.0.post0)\n",
            "Requirement already satisfied: six>=1.5 in /usr/local/lib/python3.12/dist-packages (from python-dateutil>=2.7->matplotlib->filterpy) (1.17.0)\n",
            "Building wheels for collected packages: filterpy\n",
            "  Building wheel for filterpy (setup.py) ... \u001b[?25l\u001b[?25hdone\n",
            "  Created wheel for filterpy: filename=filterpy-1.4.5-py3-none-any.whl size=110460 sha256=ede01970ea577275ec35b17bc9f4d50656db34aea075010eb1809a04aaa029af\n",
            "  Stored in directory: /root/.cache/pip/wheels/77/bf/4c/b0c3f4798a0166668752312a67118b27a3cd341e13ac0ae6ee\n",
            "Successfully built filterpy\n",
            "Installing collected packages: filterpy\n",
            "Successfully installed filterpy-1.4.5\n"
          ]
        }
      ],
      "source": [
        "%pip install filterpy"
      ]
    },
    {
      "cell_type": "code",
      "source": [
        "import kagglehub\n",
        "from kagglehub import KaggleDatasetAdapter\n",
        "\n",
        "import os\n",
        "import scipy.optimize as opt\n",
        "\n",
        "from sklearn.model_selection import train_test_split\n",
        "from sklearn.linear_model import LinearRegression\n",
        "\n",
        "import numpy as np\n",
        "import matplotlib.pyplot as plt\n",
        "import pandas as pd\n",
        "\n",
        "from filterpy.kalman import KalmanFilter"
      ],
      "metadata": {
        "id": "dzIBWFnirBg2"
      },
      "execution_count": 6,
      "outputs": []
    },
    {
      "cell_type": "code",
      "source": [
        "# This will print out the downloaded path\n",
        "path = kagglehub.dataset_download(\"angelvarela/gold-data-to-predict-the-stock-market\")\n",
        "print(\"Downloaded files:\", path)\n",
        "\n",
        "print(os.listdir(path))  # List all files in the dataset folder"
      ],
      "metadata": {
        "colab": {
          "base_uri": "https://localhost:8080/"
        },
        "id": "MRWBCIkRrrRk",
        "outputId": "9864b061-c7a4-4235-dcfe-e04b906f2f9c"
      },
      "execution_count": 7,
      "outputs": [
        {
          "output_type": "stream",
          "name": "stdout",
          "text": [
            "Using Colab cache for faster access to the 'gold-data-to-predict-the-stock-market' dataset.\n",
            "Downloaded files: /kaggle/input/gold-data-to-predict-the-stock-market\n",
            "['Achilles_Data-Gold-Silver.csv', 'Achilles_Data-Gold.csv']\n"
          ]
        }
      ]
    },
    {
      "cell_type": "code",
      "source": [
        "# Set the path to the file you'd like to load\n",
        "file_path = \"Achilles_Data-Gold.csv\"\n",
        "\n",
        "# Load the latest version\n",
        "df = kagglehub.load_dataset(\n",
        "  KaggleDatasetAdapter.PANDAS,\n",
        "  \"angelvarela/gold-data-to-predict-the-stock-market\",\n",
        "  file_path,\n",
        "  # Provide any additional arguments like\n",
        "  # sql_query or pandas_kwargs. See the\n",
        "  # documenation for more information:\n",
        "  # https://github.com/Kaggle/kagglehub/blob/main/README.md#kaggledatasetadapterpandas\n",
        ")\n",
        "# convert UNIX timestamp to datetime\n",
        "df['time'] = pd.to_datetime(df['time'], unit = 's')\n",
        "\n",
        "# sort by time and set as index\n",
        "df = df.sort_values('time')"
      ],
      "metadata": {
        "colab": {
          "base_uri": "https://localhost:8080/"
        },
        "id": "rCb6B9rLrapg",
        "outputId": "6952b74a-f637-4359-b71b-b8a97675a087"
      },
      "execution_count": 8,
      "outputs": [
        {
          "output_type": "stream",
          "name": "stderr",
          "text": [
            "/tmp/ipython-input-1557600962.py:5: DeprecationWarning: Use dataset_load() instead of load_dataset(). load_dataset() will be removed in a future version.\n",
            "  df = kagglehub.load_dataset(\n"
          ]
        },
        {
          "output_type": "stream",
          "name": "stdout",
          "text": [
            "Using Colab cache for faster access to the 'gold-data-to-predict-the-stock-market' dataset.\n"
          ]
        }
      ]
    },
    {
      "cell_type": "code",
      "source": [
        "df[\"timestep\"] = range(len(df))\n",
        "df.head()"
      ],
      "metadata": {
        "colab": {
          "base_uri": "https://localhost:8080/",
          "height": 206
        },
        "id": "fnoJQ5-ZrbYL",
        "outputId": "e6891fb4-7871-44f2-9443-91f59280fa9a"
      },
      "execution_count": 9,
      "outputs": [
        {
          "output_type": "execute_result",
          "data": {
            "text/plain": [
              "                 time     open     high      low    close  tick_volume  \\\n",
              "0 2023-01-03 01:02:00  1826.92  1827.65  1826.92  1827.24           47   \n",
              "1 2023-01-03 01:03:00  1827.26  1827.86  1827.18  1827.84           36   \n",
              "2 2023-01-03 01:04:00  1827.83  1828.70  1827.83  1828.66           47   \n",
              "3 2023-01-03 01:05:00  1828.65  1829.92  1828.62  1829.80           65   \n",
              "4 2023-01-03 01:06:00  1829.84  1830.94  1829.84  1830.63           87   \n",
              "\n",
              "           ema    obv  timestep  \n",
              "0  2166.827022   47.0         0  \n",
              "1  2166.827022   83.0         1  \n",
              "2  2166.827022  130.0         2  \n",
              "3  2166.827022  195.0         3  \n",
              "4  2166.827022  282.0         4  "
            ],
            "text/html": [
              "\n",
              "  <div id=\"df-0f094ed8-7dae-4855-bafb-686433604561\" class=\"colab-df-container\">\n",
              "    <div>\n",
              "<style scoped>\n",
              "    .dataframe tbody tr th:only-of-type {\n",
              "        vertical-align: middle;\n",
              "    }\n",
              "\n",
              "    .dataframe tbody tr th {\n",
              "        vertical-align: top;\n",
              "    }\n",
              "\n",
              "    .dataframe thead th {\n",
              "        text-align: right;\n",
              "    }\n",
              "</style>\n",
              "<table border=\"1\" class=\"dataframe\">\n",
              "  <thead>\n",
              "    <tr style=\"text-align: right;\">\n",
              "      <th></th>\n",
              "      <th>time</th>\n",
              "      <th>open</th>\n",
              "      <th>high</th>\n",
              "      <th>low</th>\n",
              "      <th>close</th>\n",
              "      <th>tick_volume</th>\n",
              "      <th>ema</th>\n",
              "      <th>obv</th>\n",
              "      <th>timestep</th>\n",
              "    </tr>\n",
              "  </thead>\n",
              "  <tbody>\n",
              "    <tr>\n",
              "      <th>0</th>\n",
              "      <td>2023-01-03 01:02:00</td>\n",
              "      <td>1826.92</td>\n",
              "      <td>1827.65</td>\n",
              "      <td>1826.92</td>\n",
              "      <td>1827.24</td>\n",
              "      <td>47</td>\n",
              "      <td>2166.827022</td>\n",
              "      <td>47.0</td>\n",
              "      <td>0</td>\n",
              "    </tr>\n",
              "    <tr>\n",
              "      <th>1</th>\n",
              "      <td>2023-01-03 01:03:00</td>\n",
              "      <td>1827.26</td>\n",
              "      <td>1827.86</td>\n",
              "      <td>1827.18</td>\n",
              "      <td>1827.84</td>\n",
              "      <td>36</td>\n",
              "      <td>2166.827022</td>\n",
              "      <td>83.0</td>\n",
              "      <td>1</td>\n",
              "    </tr>\n",
              "    <tr>\n",
              "      <th>2</th>\n",
              "      <td>2023-01-03 01:04:00</td>\n",
              "      <td>1827.83</td>\n",
              "      <td>1828.70</td>\n",
              "      <td>1827.83</td>\n",
              "      <td>1828.66</td>\n",
              "      <td>47</td>\n",
              "      <td>2166.827022</td>\n",
              "      <td>130.0</td>\n",
              "      <td>2</td>\n",
              "    </tr>\n",
              "    <tr>\n",
              "      <th>3</th>\n",
              "      <td>2023-01-03 01:05:00</td>\n",
              "      <td>1828.65</td>\n",
              "      <td>1829.92</td>\n",
              "      <td>1828.62</td>\n",
              "      <td>1829.80</td>\n",
              "      <td>65</td>\n",
              "      <td>2166.827022</td>\n",
              "      <td>195.0</td>\n",
              "      <td>3</td>\n",
              "    </tr>\n",
              "    <tr>\n",
              "      <th>4</th>\n",
              "      <td>2023-01-03 01:06:00</td>\n",
              "      <td>1829.84</td>\n",
              "      <td>1830.94</td>\n",
              "      <td>1829.84</td>\n",
              "      <td>1830.63</td>\n",
              "      <td>87</td>\n",
              "      <td>2166.827022</td>\n",
              "      <td>282.0</td>\n",
              "      <td>4</td>\n",
              "    </tr>\n",
              "  </tbody>\n",
              "</table>\n",
              "</div>\n",
              "    <div class=\"colab-df-buttons\">\n",
              "\n",
              "  <div class=\"colab-df-container\">\n",
              "    <button class=\"colab-df-convert\" onclick=\"convertToInteractive('df-0f094ed8-7dae-4855-bafb-686433604561')\"\n",
              "            title=\"Convert this dataframe to an interactive table.\"\n",
              "            style=\"display:none;\">\n",
              "\n",
              "  <svg xmlns=\"http://www.w3.org/2000/svg\" height=\"24px\" viewBox=\"0 -960 960 960\">\n",
              "    <path d=\"M120-120v-720h720v720H120Zm60-500h600v-160H180v160Zm220 220h160v-160H400v160Zm0 220h160v-160H400v160ZM180-400h160v-160H180v160Zm440 0h160v-160H620v160ZM180-180h160v-160H180v160Zm440 0h160v-160H620v160Z\"/>\n",
              "  </svg>\n",
              "    </button>\n",
              "\n",
              "  <style>\n",
              "    .colab-df-container {\n",
              "      display:flex;\n",
              "      gap: 12px;\n",
              "    }\n",
              "\n",
              "    .colab-df-convert {\n",
              "      background-color: #E8F0FE;\n",
              "      border: none;\n",
              "      border-radius: 50%;\n",
              "      cursor: pointer;\n",
              "      display: none;\n",
              "      fill: #1967D2;\n",
              "      height: 32px;\n",
              "      padding: 0 0 0 0;\n",
              "      width: 32px;\n",
              "    }\n",
              "\n",
              "    .colab-df-convert:hover {\n",
              "      background-color: #E2EBFA;\n",
              "      box-shadow: 0px 1px 2px rgba(60, 64, 67, 0.3), 0px 1px 3px 1px rgba(60, 64, 67, 0.15);\n",
              "      fill: #174EA6;\n",
              "    }\n",
              "\n",
              "    .colab-df-buttons div {\n",
              "      margin-bottom: 4px;\n",
              "    }\n",
              "\n",
              "    [theme=dark] .colab-df-convert {\n",
              "      background-color: #3B4455;\n",
              "      fill: #D2E3FC;\n",
              "    }\n",
              "\n",
              "    [theme=dark] .colab-df-convert:hover {\n",
              "      background-color: #434B5C;\n",
              "      box-shadow: 0px 1px 3px 1px rgba(0, 0, 0, 0.15);\n",
              "      filter: drop-shadow(0px 1px 2px rgba(0, 0, 0, 0.3));\n",
              "      fill: #FFFFFF;\n",
              "    }\n",
              "  </style>\n",
              "\n",
              "    <script>\n",
              "      const buttonEl =\n",
              "        document.querySelector('#df-0f094ed8-7dae-4855-bafb-686433604561 button.colab-df-convert');\n",
              "      buttonEl.style.display =\n",
              "        google.colab.kernel.accessAllowed ? 'block' : 'none';\n",
              "\n",
              "      async function convertToInteractive(key) {\n",
              "        const element = document.querySelector('#df-0f094ed8-7dae-4855-bafb-686433604561');\n",
              "        const dataTable =\n",
              "          await google.colab.kernel.invokeFunction('convertToInteractive',\n",
              "                                                    [key], {});\n",
              "        if (!dataTable) return;\n",
              "\n",
              "        const docLinkHtml = 'Like what you see? Visit the ' +\n",
              "          '<a target=\"_blank\" href=https://colab.research.google.com/notebooks/data_table.ipynb>data table notebook</a>'\n",
              "          + ' to learn more about interactive tables.';\n",
              "        element.innerHTML = '';\n",
              "        dataTable['output_type'] = 'display_data';\n",
              "        await google.colab.output.renderOutput(dataTable, element);\n",
              "        const docLink = document.createElement('div');\n",
              "        docLink.innerHTML = docLinkHtml;\n",
              "        element.appendChild(docLink);\n",
              "      }\n",
              "    </script>\n",
              "  </div>\n",
              "\n",
              "\n",
              "    <div id=\"df-43d72d28-9ac2-45da-9def-e73684a70ae8\">\n",
              "      <button class=\"colab-df-quickchart\" onclick=\"quickchart('df-43d72d28-9ac2-45da-9def-e73684a70ae8')\"\n",
              "                title=\"Suggest charts\"\n",
              "                style=\"display:none;\">\n",
              "\n",
              "<svg xmlns=\"http://www.w3.org/2000/svg\" height=\"24px\"viewBox=\"0 0 24 24\"\n",
              "     width=\"24px\">\n",
              "    <g>\n",
              "        <path d=\"M19 3H5c-1.1 0-2 .9-2 2v14c0 1.1.9 2 2 2h14c1.1 0 2-.9 2-2V5c0-1.1-.9-2-2-2zM9 17H7v-7h2v7zm4 0h-2V7h2v10zm4 0h-2v-4h2v4z\"/>\n",
              "    </g>\n",
              "</svg>\n",
              "      </button>\n",
              "\n",
              "<style>\n",
              "  .colab-df-quickchart {\n",
              "      --bg-color: #E8F0FE;\n",
              "      --fill-color: #1967D2;\n",
              "      --hover-bg-color: #E2EBFA;\n",
              "      --hover-fill-color: #174EA6;\n",
              "      --disabled-fill-color: #AAA;\n",
              "      --disabled-bg-color: #DDD;\n",
              "  }\n",
              "\n",
              "  [theme=dark] .colab-df-quickchart {\n",
              "      --bg-color: #3B4455;\n",
              "      --fill-color: #D2E3FC;\n",
              "      --hover-bg-color: #434B5C;\n",
              "      --hover-fill-color: #FFFFFF;\n",
              "      --disabled-bg-color: #3B4455;\n",
              "      --disabled-fill-color: #666;\n",
              "  }\n",
              "\n",
              "  .colab-df-quickchart {\n",
              "    background-color: var(--bg-color);\n",
              "    border: none;\n",
              "    border-radius: 50%;\n",
              "    cursor: pointer;\n",
              "    display: none;\n",
              "    fill: var(--fill-color);\n",
              "    height: 32px;\n",
              "    padding: 0;\n",
              "    width: 32px;\n",
              "  }\n",
              "\n",
              "  .colab-df-quickchart:hover {\n",
              "    background-color: var(--hover-bg-color);\n",
              "    box-shadow: 0 1px 2px rgba(60, 64, 67, 0.3), 0 1px 3px 1px rgba(60, 64, 67, 0.15);\n",
              "    fill: var(--button-hover-fill-color);\n",
              "  }\n",
              "\n",
              "  .colab-df-quickchart-complete:disabled,\n",
              "  .colab-df-quickchart-complete:disabled:hover {\n",
              "    background-color: var(--disabled-bg-color);\n",
              "    fill: var(--disabled-fill-color);\n",
              "    box-shadow: none;\n",
              "  }\n",
              "\n",
              "  .colab-df-spinner {\n",
              "    border: 2px solid var(--fill-color);\n",
              "    border-color: transparent;\n",
              "    border-bottom-color: var(--fill-color);\n",
              "    animation:\n",
              "      spin 1s steps(1) infinite;\n",
              "  }\n",
              "\n",
              "  @keyframes spin {\n",
              "    0% {\n",
              "      border-color: transparent;\n",
              "      border-bottom-color: var(--fill-color);\n",
              "      border-left-color: var(--fill-color);\n",
              "    }\n",
              "    20% {\n",
              "      border-color: transparent;\n",
              "      border-left-color: var(--fill-color);\n",
              "      border-top-color: var(--fill-color);\n",
              "    }\n",
              "    30% {\n",
              "      border-color: transparent;\n",
              "      border-left-color: var(--fill-color);\n",
              "      border-top-color: var(--fill-color);\n",
              "      border-right-color: var(--fill-color);\n",
              "    }\n",
              "    40% {\n",
              "      border-color: transparent;\n",
              "      border-right-color: var(--fill-color);\n",
              "      border-top-color: var(--fill-color);\n",
              "    }\n",
              "    60% {\n",
              "      border-color: transparent;\n",
              "      border-right-color: var(--fill-color);\n",
              "    }\n",
              "    80% {\n",
              "      border-color: transparent;\n",
              "      border-right-color: var(--fill-color);\n",
              "      border-bottom-color: var(--fill-color);\n",
              "    }\n",
              "    90% {\n",
              "      border-color: transparent;\n",
              "      border-bottom-color: var(--fill-color);\n",
              "    }\n",
              "  }\n",
              "</style>\n",
              "\n",
              "      <script>\n",
              "        async function quickchart(key) {\n",
              "          const quickchartButtonEl =\n",
              "            document.querySelector('#' + key + ' button');\n",
              "          quickchartButtonEl.disabled = true;  // To prevent multiple clicks.\n",
              "          quickchartButtonEl.classList.add('colab-df-spinner');\n",
              "          try {\n",
              "            const charts = await google.colab.kernel.invokeFunction(\n",
              "                'suggestCharts', [key], {});\n",
              "          } catch (error) {\n",
              "            console.error('Error during call to suggestCharts:', error);\n",
              "          }\n",
              "          quickchartButtonEl.classList.remove('colab-df-spinner');\n",
              "          quickchartButtonEl.classList.add('colab-df-quickchart-complete');\n",
              "        }\n",
              "        (() => {\n",
              "          let quickchartButtonEl =\n",
              "            document.querySelector('#df-43d72d28-9ac2-45da-9def-e73684a70ae8 button');\n",
              "          quickchartButtonEl.style.display =\n",
              "            google.colab.kernel.accessAllowed ? 'block' : 'none';\n",
              "        })();\n",
              "      </script>\n",
              "    </div>\n",
              "\n",
              "    </div>\n",
              "  </div>\n"
            ],
            "application/vnd.google.colaboratory.intrinsic+json": {
              "type": "dataframe",
              "variable_name": "df"
            }
          },
          "metadata": {},
          "execution_count": 9
        }
      ]
    },
    {
      "cell_type": "code",
      "source": [
        "csv_path = os.path.join(path, \"Achilles_Data-Gold.csv\")\n",
        "\n",
        "df_train = pd.read_csv(csv_path)\n",
        "print(df_train.head())"
      ],
      "metadata": {
        "colab": {
          "base_uri": "https://localhost:8080/"
        },
        "id": "dlINksJMrl6Z",
        "outputId": "adbaa5f9-48ec-471f-c610-f7cd86f0102b"
      },
      "execution_count": 10,
      "outputs": [
        {
          "output_type": "stream",
          "name": "stdout",
          "text": [
            "         time     open     high      low    close  tick_volume          ema  \\\n",
            "0  1672707720  1826.92  1827.65  1826.92  1827.24           47  2166.827022   \n",
            "1  1672707780  1827.26  1827.86  1827.18  1827.84           36  2166.827022   \n",
            "2  1672707840  1827.83  1828.70  1827.83  1828.66           47  2166.827022   \n",
            "3  1672707900  1828.65  1829.92  1828.62  1829.80           65  2166.827022   \n",
            "4  1672707960  1829.84  1830.94  1829.84  1830.63           87  2166.827022   \n",
            "\n",
            "     obv  \n",
            "0   47.0  \n",
            "1   83.0  \n",
            "2  130.0  \n",
            "3  195.0  \n",
            "4  282.0  \n"
          ]
        }
      ]
    },
    {
      "cell_type": "code",
      "source": [
        "# df.index row label of data frame\n",
        "plt.scatter(df.index, df['open'])"
      ],
      "metadata": {
        "colab": {
          "base_uri": "https://localhost:8080/",
          "height": 448
        },
        "id": "1SH_r-UpthkJ",
        "outputId": "e465f62c-aa32-40d9-c9dc-91ac326d80b0"
      },
      "execution_count": 11,
      "outputs": [
        {
          "output_type": "execute_result",
          "data": {
            "text/plain": [
              "<matplotlib.collections.PathCollection at 0x7a0ace5bb320>"
            ]
          },
          "metadata": {},
          "execution_count": 11
        },
        {
          "output_type": "display_data",
          "data": {
            "text/plain": [
              "<Figure size 640x480 with 1 Axes>"
            ],
            "image/png": "[encoded data removed]"
          },
          "metadata": {}
        }
      ]
    },
    {
      "cell_type": "code",
      "source": [
        "x = df.index.values.reshape(-1, 1) # Reshape x to be a 2D array\n",
        "y = df['open'].values # x = index, y = price\n",
        "\n",
        "x_train, x_test, y_train, y_test = train_test_split(x, y, test_size=0.2, shuffle=False)"
      ],
      "metadata": {
        "id": "JE3SOoOQtx9A"
      },
      "execution_count": 27,
      "outputs": []
    },
    {
      "cell_type": "code",
      "source": [
        "def filter_random_walk(y, sigma2_q, sigma2_r, x0, P0):\n",
        "  f = KalmanFilter (dim_x=1, dim_z=1)\n",
        "\n",
        "  f.x = np.array([[x0]])\n",
        "\n",
        "  f.F = np.array([[1.0]])\n",
        "  f.H = np.array([[1.0]])\n",
        "\n",
        "  # Initial covariance\n",
        "  f.P = np.array([[P0]])\n",
        "\n",
        "  # Process Noise\n",
        "  f.Q = np.array([[sigma2_q]])\n",
        "  f.R = np.array([[sigma2_r]])\n",
        "\n",
        "  filtered_state = []\n",
        "  filtered_obs = []\n",
        "\n",
        "  for z in y:\n",
        "    f.predict()\n",
        "    f.update(float(z))\n",
        "    filtered_state.append(f.x)\n",
        "    filtered_obs.append(float(f.measurement_of_state(f.x)))\n",
        "\n",
        "  return filtered_state, filtered_obs"
      ],
      "metadata": {
        "id": "cb39fSfANP5B"
      },
      "execution_count": 13,
      "outputs": []
    },
    {
      "cell_type": "code",
      "source": [
        "def predict_random_walk(y, sigma2_q, sigma2_r, x0, P0):\n",
        "  f = KalmanFilter (dim_x=1, dim_z=1)\n",
        "\n",
        "  f.x = np.array([[x0]])\n",
        "\n",
        "  f.F = np.array([[1.0]])\n",
        "  f.H = np.array([[1.0]])\n",
        "\n",
        "  # Initial covariance\n",
        "  f.P = np.array([[P0]])\n",
        "\n",
        "  # Process Noise\n",
        "  f.Q = np.array([[sigma2_q]])\n",
        "  f.R = np.array([[sigma2_r]])\n",
        "\n",
        "  mse_total = 0.0\n",
        "  error_list = []\n",
        "\n",
        "  for z in y:\n",
        "    f.predict()\n",
        "    y_pred = float(f.measurement_of_state(f.x))\n",
        "    z = float(z)\n",
        "    mse = (y_pred - z)**2\n",
        "\n",
        "    error_list.append(mse)\n",
        "    mse_total += mse\n",
        "\n",
        "    f.update(z)\n",
        "  return mse_total, error_list"
      ],
      "metadata": {
        "id": "AMGmevexNf0c"
      },
      "execution_count": 14,
      "outputs": []
    },
    {
      "cell_type": "code",
      "source": [
        "def make_energy_random_walk(y, x0, P0):\n",
        "\n",
        "  def energy_fun(theta):\n",
        "    log_sigma2_q = theta[0]\n",
        "    log_sigma2_r = theta[1]\n",
        "    sigma2_q = np.exp(log_sigma2_q) #sigma needs to be non-negative\n",
        "    sigma2_r = np.exp(log_sigma2_r) #sigma needs to be non-negative\n",
        "\n",
        "    f = KalmanFilter (dim_x=1, dim_z=1)\n",
        "\n",
        "    f.x = np.array([[x0]])\n",
        "\n",
        "    f.F = np.array([[1.0]])\n",
        "    f.H = np.array([[1.0]])\n",
        "\n",
        "    # Initial covariance\n",
        "    f.P = np.array([[P0]])\n",
        "\n",
        "    # Process Noise\n",
        "    f.Q = np.array([[sigma2_q]])\n",
        "    f.R = np.array([[sigma2_r]])\n",
        "\n",
        "    score = 0.0\n",
        "\n",
        "    for z in y:\n",
        "      f.predict()\n",
        "      f.update(z)\n",
        "      score += f.log_likelihood\n",
        "    return -score\n",
        "\n",
        "  return energy_fun"
      ],
      "metadata": {
        "id": "Gx5EsmW2NgNe"
      },
      "execution_count": 15,
      "outputs": []
    },
    {
      "cell_type": "code",
      "source": [
        "def fit_and_predict_random_walk(y, x0, P0):\n",
        "  # Fit maximum likelihood\n",
        "  energy_fun = make_energy_random_walk(y, x0=x0, P0=P0) # Use provided x0 and P0\n",
        "  theta0 = np.array([np.log(1.0),np.log(1.0)]) # Correct initial guess for log_sigma2_q and log_sigma2_r\n",
        "  res = opt.minimize(energy_fun, theta0)\n",
        "\n",
        "  # Compute MSE for fitted model\n",
        "  log_sigma2_q = res.x[0]\n",
        "  log_sigma2_r = res.x[1]\n",
        "  sigma2_q = np.exp(log_sigma2_q)\n",
        "  sigma2_r = np.exp(log_sigma2_r)\n",
        "\n",
        "  mse, error_list = predict_random_walk(y, sigma2_q, sigma2_r, x0, P0)\n",
        "  filtered_states, filtered_obs = filter_random_walk(y, sigma2_q, sigma2_r, x0, P0)\n",
        "\n",
        "  return res, mse, error_list, filtered_states, filtered_obs, sigma2_q, sigma2_r"
      ],
      "metadata": {
        "id": "nzvURBWVNiwu"
      },
      "execution_count": 29,
      "outputs": []
    },
    {
      "cell_type": "code",
      "source": [
        "# Define initial values for x0 and P0\n",
        "initial_price = y[0] # Use the first observed price as initial state estimate\n",
        "initial_uncertainty = 1.0 # Initial uncertainty in the state\n",
        "\n",
        "# Use only the first 1000 rows for faster execution\n",
        "y_subset = y[:1000]\n",
        "\n",
        "res, mse, error_list, filtered_states, filtered_obs = fit_and_predict_random_walk(y_subset, initial_price, initial_uncertainty)"
      ],
      "metadata": {
        "colab": {
          "base_uri": "https://localhost:8080/"
        },
        "id": "a4D94RG8Nl8e",
        "outputId": "d5ba6d75-5493-4437-fb8b-8697d3bde44c"
      },
      "execution_count": 22,
      "outputs": [
        {
          "output_type": "stream",
          "name": "stderr",
          "text": [
            "/tmp/ipython-input-3260597140.py:21: DeprecationWarning: Conversion of an array with ndim > 0 to a scalar is deprecated, and will error in future. Ensure you extract a single element from your array before performing this operation. (Deprecated NumPy 1.25.)\n",
            "  y_pred = float(f.measurement_of_state(f.x))\n",
            "/tmp/ipython-input-2820067178.py:23: DeprecationWarning: Conversion of an array with ndim > 0 to a scalar is deprecated, and will error in future. Ensure you extract a single element from your array before performing this operation. (Deprecated NumPy 1.25.)\n",
            "  filtered_obs.append(float(f.measurement_of_state(f.x)))\n"
          ]
        }
      ]
    },
    {
      "cell_type": "code",
      "source": [
        "# Extract fitted noise variances\n",
        "sigma2_q = np.exp(res.x[0])\n",
        "sigma2_r = np.exp(res.x[1])\n",
        "\n",
        "# Fit on training data\n",
        "res, mse, error_list, filtered_states_train, _ = fit_and_predict_random_walk(\n",
        "    y_train, x0=y_train[0], P0=1.0\n",
        ")\n",
        "filtered_states_train = np.array(filtered_states_train, dtype=float).ravel()\n",
        "\n",
        "# Predict on test data (1-step ahead)\n",
        "last_state = filtered_states_train[-1]\n",
        "P_last = 1.0\n",
        "filt_test, _ = filter_random_walk(y_test, sigma2_q, sigma2_r, last_state, P_last)\n",
        "filt_test = np.array(filt_test, dtype=float).ravel()\n",
        "\n",
        "\n",
        "# Plot\n",
        "plt.plot(x, y, color=\"orange\", label=\"observations\")\n",
        "# draws vertical line at x-coordinate x_train[-1]\n",
        "plt.axvline(x_train[-1], color=\"orange\", linestyle=\"--\", label=\"train/test split\")\n",
        "plt.plot(x_train, filtered_states_train, color=\"deepskyblue\", label=\"filtered state (train)\")\n",
        "plt.plot(x_test, filt_test, color=\"teal\", label=\"1-step preds (test)\")\n",
        "plt.title(\"Random Walk Kalman Filter — Train/Test\")\n",
        "plt.xlabel(\"Index\")\n",
        "plt.ylabel(\"Price\")\n",
        "plt.legend()\n",
        "plt.show()"
      ],
      "metadata": {
        "id": "Dhxb8MyVwgC_"
      },
      "execution_count": null,
      "outputs": []
    },
    {
      "cell_type": "code",
      "source": [],
      "metadata": {
        "id": "dASatLdKyeRq"
      },
      "execution_count": null,
      "outputs": []
    }
  ]
}