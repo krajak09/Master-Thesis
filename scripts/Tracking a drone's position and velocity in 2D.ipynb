{
 "cells": [
  {
   "cell_type": "code",
   "execution_count": 2,
   "id": "438bbd83",
   "metadata": {},
   "outputs": [],
   "source": [
    "import numpy as np"
   ]
  },
  {
   "cell_type": "code",
   "execution_count": 3,
   "id": "0c1cc638",
   "metadata": {},
   "outputs": [
    {
     "name": "stdout",
     "output_type": "stream",
     "text": [
      "Final state:\n",
      " [ 34.28043276 -11.19192473   1.46109749  -1.41259513]\n",
      "Final observation:\n",
      " [ 34.5942188  -10.36498616]\n"
     ]
    }
   ],
   "source": [
    "# Time parameters\n",
    "T = 50\n",
    "delta_t = 1.0  # time step\n",
    "\n",
    "# Define matrices\n",
    "A = np.array([\n",
    "    [1, 0, delta_t, 0],\n",
    "    [0, 1, 0, delta_t],\n",
    "    [0, 0, 1, 0],\n",
    "    [0, 0, 0, 1]\n",
    "])\n",
    "\n",
    "H = np.array([\n",
    "    [1, 0, 0, 0],\n",
    "    [0, 1, 0, 0]\n",
    "])\n",
    "\n",
    "# Noise covariances\n",
    "process_noise = 0.1 * np.eye(4) # for transition model\n",
    "observation_noise = 0.5 * np.eye(2) # for observation model\n",
    "\n",
    "# Initial state\n",
    "x = np.array([0, 0, 1, 1])  # Starting at origin, moving diagonally\n",
    "x_list = [x.copy()]\n",
    "y_list = []\n",
    "\n",
    "# Simulation loop\n",
    "for t in range(1, T + 1):\n",
    "    # Process noise\n",
    "    q = np.random.multivariate_normal(np.zeros(4), process_noise)\n",
    "    x = A @ x + q\n",
    "    x_list.append(x.copy())\n",
    "\n",
    "    # Observation noise\n",
    "    r = np.random.multivariate_normal(np.zeros(2), observation_noise)\n",
    "    y = H @ x + r\n",
    "    y_list.append(y.copy())\n",
    "\n",
    "# Convert to numpy arrays\n",
    "x_array = np.array(x_list)\n",
    "y_array = np.array(y_list)\n",
    "\n",
    "# Optional: print final state\n",
    "print(\"Final state:\\n\", x_array[-1])\n",
    "print(\"Final observation:\\n\", y_array[-1])\n"
   ]
  }
 ],
 "metadata": {
  "kernelspec": {
   "display_name": "Python 3 (ipykernel)",
   "language": "python",
   "name": "python3"
  },
  "language_info": {
   "codemirror_mode": {
    "name": "ipython",
    "version": 3
   },
   "file_extension": ".py",
   "mimetype": "text/x-python",
   "name": "python",
   "nbconvert_exporter": "python",
   "pygments_lexer": "ipython3",
   "version": "3.10.12"
  }
 },
 "nbformat": 4,
 "nbformat_minor": 5
}
