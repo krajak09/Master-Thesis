{
 "cells": [
  {
   "cell_type": "markdown",
   "metadata": {
    "colab_type": "text",
    "id": "view-in-github"
   },
   "source": [
    "<a href=\"https://colab.research.google.com/github/krajak09/Master-Thesis/blob/main/scripts/Train_and_Test_on_RandomWalk.ipynb\" target=\"_parent\"><img src=\"https://colab.research.google.com/assets/colab-badge.svg\" alt=\"Open In Colab\"/></a>"
   ]
  },
  {
   "cell_type": "code",
   "execution_count": 24,
   "metadata": {
    "colab": {
     "base_uri": "https://localhost:8080/"
    },
    "id": "zL59UgJTq_Rb",
    "outputId": "fc4d96f2-6ba7-4dee-cb38-d279d0753568"
   },
   "outputs": [
    {
     "name": "stdout",
     "output_type": "stream",
     "text": [
      "Requirement already satisfied: filterpy in /opt/anaconda3/lib/python3.12/site-packages (1.4.5)\n",
      "Requirement already satisfied: numpy in /opt/anaconda3/lib/python3.12/site-packages (from filterpy) (1.26.4)\n",
      "Requirement already satisfied: scipy in /opt/anaconda3/lib/python3.12/site-packages (from filterpy) (1.13.1)\n",
      "Requirement already satisfied: matplotlib in /opt/anaconda3/lib/python3.12/site-packages (from filterpy) (3.8.4)\n",
      "Requirement already satisfied: contourpy>=1.0.1 in /opt/anaconda3/lib/python3.12/site-packages (from matplotlib->filterpy) (1.2.0)\n",
      "Requirement already satisfied: cycler>=0.10 in /opt/anaconda3/lib/python3.12/site-packages (from matplotlib->filterpy) (0.11.0)\n",
      "Requirement already satisfied: fonttools>=4.22.0 in /opt/anaconda3/lib/python3.12/site-packages (from matplotlib->filterpy) (4.51.0)\n",
      "Requirement already satisfied: kiwisolver>=1.3.1 in /opt/anaconda3/lib/python3.12/site-packages (from matplotlib->filterpy) (1.4.4)\n",
      "Requirement already satisfied: packaging>=20.0 in /opt/anaconda3/lib/python3.12/site-packages (from matplotlib->filterpy) (23.2)\n",
      "Requirement already satisfied: pillow>=8 in /opt/anaconda3/lib/python3.12/site-packages (from matplotlib->filterpy) (10.3.0)\n",
      "Requirement already satisfied: pyparsing>=2.3.1 in /opt/anaconda3/lib/python3.12/site-packages (from matplotlib->filterpy) (3.0.9)\n",
      "Requirement already satisfied: python-dateutil>=2.7 in /opt/anaconda3/lib/python3.12/site-packages (from matplotlib->filterpy) (2.9.0.post0)\n",
      "Requirement already satisfied: six>=1.5 in /opt/anaconda3/lib/python3.12/site-packages (from python-dateutil>=2.7->matplotlib->filterpy) (1.16.0)\n",
      "Note: you may need to restart the kernel to use updated packages.\n"
     ]
    }
   ],
   "source": [
    "%pip install filterpy"
   ]
  },
  {
   "cell_type": "code",
   "execution_count": 25,
   "metadata": {},
   "outputs": [
    {
     "name": "stdout",
     "output_type": "stream",
     "text": [
      "Requirement already satisfied: kagglehub in /opt/anaconda3/lib/python3.12/site-packages (0.3.13)\n",
      "Requirement already satisfied: packaging in /opt/anaconda3/lib/python3.12/site-packages (from kagglehub) (23.2)\n",
      "Requirement already satisfied: pyyaml in /opt/anaconda3/lib/python3.12/site-packages (from kagglehub) (6.0.1)\n",
      "Requirement already satisfied: requests in /opt/anaconda3/lib/python3.12/site-packages (from kagglehub) (2.32.2)\n",
      "Requirement already satisfied: tqdm in /opt/anaconda3/lib/python3.12/site-packages (from kagglehub) (4.66.4)\n",
      "Requirement already satisfied: charset-normalizer<4,>=2 in /opt/anaconda3/lib/python3.12/site-packages (from requests->kagglehub) (2.0.4)\n",
      "Requirement already satisfied: idna<4,>=2.5 in /opt/anaconda3/lib/python3.12/site-packages (from requests->kagglehub) (3.7)\n",
      "Requirement already satisfied: urllib3<3,>=1.21.1 in /opt/anaconda3/lib/python3.12/site-packages (from requests->kagglehub) (2.2.2)\n",
      "Requirement already satisfied: certifi>=2017.4.17 in /opt/anaconda3/lib/python3.12/site-packages (from requests->kagglehub) (2025.1.31)\n",
      "Note: you may need to restart the kernel to use updated packages.\n"
     ]
    }
   ],
   "source": [
    "%pip install kagglehub"
   ]
  },
  {
   "cell_type": "code",
   "execution_count": 26,
   "metadata": {
    "id": "dzIBWFnirBg2"
   },
   "outputs": [],
   "source": [
    "import kagglehub\n",
    "from kagglehub import KaggleDatasetAdapter\n",
    "\n",
    "import os\n",
    "import scipy.optimize as opt\n",
    "\n",
    "from sklearn.model_selection import train_test_split\n",
    "from sklearn.linear_model import LinearRegression\n",
    "\n",
    "import numpy as np\n",
    "import matplotlib.pyplot as plt\n",
    "import pandas as pd\n",
    "\n",
    "from filterpy.kalman import KalmanFilter"
   ]
  },
  {
   "cell_type": "code",
   "execution_count": 27,
   "metadata": {
    "colab": {
     "base_uri": "https://localhost:8080/"
    },
    "id": "MRWBCIkRrrRk",
    "outputId": "9864b061-c7a4-4235-dcfe-e04b906f2f9c"
   },
   "outputs": [
    {
     "name": "stdout",
     "output_type": "stream",
     "text": [
      "Downloaded files: /Users/keerthi/.cache/kagglehub/datasets/angelvarela/gold-data-to-predict-the-stock-market/versions/2\n",
      "['Achilles_Data-Gold.csv', 'Achilles_Data-Gold-Silver.csv']\n"
     ]
    }
   ],
   "source": [
    "# This will print out the downloaded path\n",
    "path = kagglehub.dataset_download(\"angelvarela/gold-data-to-predict-the-stock-market\")\n",
    "print(\"Downloaded files:\", path)\n",
    "\n",
    "print(os.listdir(path))  # List all files in the dataset folder"
   ]
  },
  {
   "cell_type": "code",
   "execution_count": null,
   "metadata": {
    "colab": {
     "base_uri": "https://localhost:8080/"
    },
    "id": "rCb6B9rLrapg",
    "outputId": "6952b74a-f637-4359-b71b-b8a97675a087"
   },
   "outputs": [],
   "source": [
    "# Set the path to the file you'd like to load\n",
    "file_path = \"Achilles_Data-Gold.csv\"\n",
    "\n",
    "# Load the latest version\n",
    "df = kagglehub.dataset_load(\n",
    "  KaggleDatasetAdapter.PANDAS,\n",
    "  \"angelvarela/gold-data-to-predict-the-stock-market\",\n",
    "  file_path,\n",
    "  # Provide any additional arguments like\n",
    "  # sql_query or pandas_kwargs. See the\n",
    "  # documenation for more information:\n",
    "  # https://github.com/Kaggle/kagglehub/blob/main/README.md#kaggledatasetadapterpandas\n",
    ")\n",
    "# convert UNIX timestamp to datetime\n",
    "df['time'] = pd.to_datetime(df['time'], unit = 's')\n",
    "\n",
    "# sort by time and set as index\n",
    "df = df.sort_values('time')"
   ]
  },
  {
   "cell_type": "code",
   "execution_count": 29,
   "metadata": {
    "colab": {
     "base_uri": "https://localhost:8080/",
     "height": 206
    },
    "id": "fnoJQ5-ZrbYL",
    "outputId": "e6891fb4-7871-44f2-9443-91f59280fa9a"
   },
   "outputs": [
    {
     "data": {
      "text/html": [
       "<div>\n",
       "<style scoped>\n",
       "    .dataframe tbody tr th:only-of-type {\n",
       "        vertical-align: middle;\n",
       "    }\n",
       "\n",
       "    .dataframe tbody tr th {\n",
       "        vertical-align: top;\n",
       "    }\n",
       "\n",
       "    .dataframe thead th {\n",
       "        text-align: right;\n",
       "    }\n",
       "</style>\n",
       "<table border=\"1\" class=\"dataframe\">\n",
       "  <thead>\n",
       "    <tr style=\"text-align: right;\">\n",
       "      <th></th>\n",
       "      <th>time</th>\n",
       "      <th>open</th>\n",
       "      <th>high</th>\n",
       "      <th>low</th>\n",
       "      <th>close</th>\n",
       "      <th>tick_volume</th>\n",
       "      <th>ema</th>\n",
       "      <th>obv</th>\n",
       "      <th>timestep</th>\n",
       "    </tr>\n",
       "  </thead>\n",
       "  <tbody>\n",
       "    <tr>\n",
       "      <th>0</th>\n",
       "      <td>2023-01-03 01:02:00</td>\n",
       "      <td>1826.92</td>\n",
       "      <td>1827.65</td>\n",
       "      <td>1826.92</td>\n",
       "      <td>1827.24</td>\n",
       "      <td>47</td>\n",
       "      <td>2166.827022</td>\n",
       "      <td>47.0</td>\n",
       "      <td>0</td>\n",
       "    </tr>\n",
       "    <tr>\n",
       "      <th>1</th>\n",
       "      <td>2023-01-03 01:03:00</td>\n",
       "      <td>1827.26</td>\n",
       "      <td>1827.86</td>\n",
       "      <td>1827.18</td>\n",
       "      <td>1827.84</td>\n",
       "      <td>36</td>\n",
       "      <td>2166.827022</td>\n",
       "      <td>83.0</td>\n",
       "      <td>1</td>\n",
       "    </tr>\n",
       "    <tr>\n",
       "      <th>2</th>\n",
       "      <td>2023-01-03 01:04:00</td>\n",
       "      <td>1827.83</td>\n",
       "      <td>1828.70</td>\n",
       "      <td>1827.83</td>\n",
       "      <td>1828.66</td>\n",
       "      <td>47</td>\n",
       "      <td>2166.827022</td>\n",
       "      <td>130.0</td>\n",
       "      <td>2</td>\n",
       "    </tr>\n",
       "    <tr>\n",
       "      <th>3</th>\n",
       "      <td>2023-01-03 01:05:00</td>\n",
       "      <td>1828.65</td>\n",
       "      <td>1829.92</td>\n",
       "      <td>1828.62</td>\n",
       "      <td>1829.80</td>\n",
       "      <td>65</td>\n",
       "      <td>2166.827022</td>\n",
       "      <td>195.0</td>\n",
       "      <td>3</td>\n",
       "    </tr>\n",
       "    <tr>\n",
       "      <th>4</th>\n",
       "      <td>2023-01-03 01:06:00</td>\n",
       "      <td>1829.84</td>\n",
       "      <td>1830.94</td>\n",
       "      <td>1829.84</td>\n",
       "      <td>1830.63</td>\n",
       "      <td>87</td>\n",
       "      <td>2166.827022</td>\n",
       "      <td>282.0</td>\n",
       "      <td>4</td>\n",
       "    </tr>\n",
       "  </tbody>\n",
       "</table>\n",
       "</div>"
      ],
      "text/plain": [
       "                 time     open     high      low    close  tick_volume  \\\n",
       "0 2023-01-03 01:02:00  1826.92  1827.65  1826.92  1827.24           47   \n",
       "1 2023-01-03 01:03:00  1827.26  1827.86  1827.18  1827.84           36   \n",
       "2 2023-01-03 01:04:00  1827.83  1828.70  1827.83  1828.66           47   \n",
       "3 2023-01-03 01:05:00  1828.65  1829.92  1828.62  1829.80           65   \n",
       "4 2023-01-03 01:06:00  1829.84  1830.94  1829.84  1830.63           87   \n",
       "\n",
       "           ema    obv  timestep  \n",
       "0  2166.827022   47.0         0  \n",
       "1  2166.827022   83.0         1  \n",
       "2  2166.827022  130.0         2  \n",
       "3  2166.827022  195.0         3  \n",
       "4  2166.827022  282.0         4  "
      ]
     },
     "execution_count": 29,
     "metadata": {},
     "output_type": "execute_result"
    }
   ],
   "source": [
    "df[\"timestep\"] = range(len(df))\n",
    "df.head()"
   ]
  },
  {
   "cell_type": "code",
   "execution_count": 30,
   "metadata": {
    "colab": {
     "base_uri": "https://localhost:8080/"
    },
    "id": "dlINksJMrl6Z",
    "outputId": "adbaa5f9-48ec-471f-c610-f7cd86f0102b"
   },
   "outputs": [
    {
     "name": "stdout",
     "output_type": "stream",
     "text": [
      "         time     open     high      low    close  tick_volume          ema  \\\n",
      "0  1672707720  1826.92  1827.65  1826.92  1827.24           47  2166.827022   \n",
      "1  1672707780  1827.26  1827.86  1827.18  1827.84           36  2166.827022   \n",
      "2  1672707840  1827.83  1828.70  1827.83  1828.66           47  2166.827022   \n",
      "3  1672707900  1828.65  1829.92  1828.62  1829.80           65  2166.827022   \n",
      "4  1672707960  1829.84  1830.94  1829.84  1830.63           87  2166.827022   \n",
      "\n",
      "     obv  \n",
      "0   47.0  \n",
      "1   83.0  \n",
      "2  130.0  \n",
      "3  195.0  \n",
      "4  282.0  \n"
     ]
    }
   ],
   "source": [
    "csv_path = os.path.join(path, \"Achilles_Data-Gold.csv\")\n",
    "\n",
    "df_train = pd.read_csv(csv_path)\n",
    "print(df_train.head())"
   ]
  },
  {
   "cell_type": "code",
   "execution_count": 31,
   "metadata": {
    "colab": {
     "base_uri": "https://localhost:8080/",
     "height": 448
    },
    "id": "1SH_r-UpthkJ",
    "outputId": "e465f62c-aa32-40d9-c9dc-91ac326d80b0"
   },
   "outputs": [
    {
     "data": {
      "text/plain": [
       "<matplotlib.collections.PathCollection at 0x148765850>"
      ]
     },
     "execution_count": 31,
     "metadata": {},
     "output_type": "execute_result"
    },
    {
     "data": {
      "image/png": "[encoded data removed]",
      "text/plain": [
       "<Figure size 640x480 with 1 Axes>"
      ]
     },
     "metadata": {},
     "output_type": "display_data"
    }
   ],
   "source": [
    "# df.index row label of data frame\n",
    "plt.scatter(df.index, df['open'])"
   ]
  },
  {
   "cell_type": "code",
   "execution_count": 32,
   "metadata": {
    "id": "JE3SOoOQtx9A"
   },
   "outputs": [],
   "source": [
    "x = df.index.values.reshape(-1, 1) # Reshape x to be a 2D array\n",
    "y = df['open'].values # x = index, y = price\n",
    "\n",
    "x_train, x_test, y_train, y_test = train_test_split(x, y, test_size=0.2, shuffle=False)"
   ]
  },
  {
   "cell_type": "code",
   "execution_count": 33,
   "metadata": {
    "id": "cb39fSfANP5B"
   },
   "outputs": [],
   "source": [
    "def filter_random_walk(y, sigma2_q, sigma2_r, x0, P0):\n",
    "  f = KalmanFilter (dim_x=1, dim_z=1)\n",
    "\n",
    "  f.x = np.array([[x0]])\n",
    "\n",
    "  f.F = np.array([[1.0]])\n",
    "  f.H = np.array([[1.0]])\n",
    "\n",
    "  # Initial covariance\n",
    "  f.P = np.array([[P0]])\n",
    "\n",
    "  # Process Noise\n",
    "  f.Q = np.array([[sigma2_q]])\n",
    "  f.R = np.array([[sigma2_r]])\n",
    "\n",
    "  filtered_state = []\n",
    "  filtered_obs = []\n",
    "\n",
    "  for z in y:\n",
    "    f.predict()\n",
    "    f.update(float(z))\n",
    "    filtered_state.append(f.x)\n",
    "    filtered_obs.append(float(f.measurement_of_state(f.x)))\n",
    "\n",
    "  return filtered_state, filtered_obs"
   ]
  },
  {
   "cell_type": "code",
   "execution_count": 34,
   "metadata": {
    "id": "AMGmevexNf0c"
   },
   "outputs": [],
   "source": [
    "def predict_random_walk(y, sigma2_q, sigma2_r, x0, P0):\n",
    "  f = KalmanFilter (dim_x=1, dim_z=1)\n",
    "\n",
    "  f.x = np.array([[x0]])\n",
    "\n",
    "  f.F = np.array([[1.0]])\n",
    "  f.H = np.array([[1.0]])\n",
    "\n",
    "  # Initial covariance\n",
    "  f.P = np.array([[P0]])\n",
    "\n",
    "  # Process Noise\n",
    "  f.Q = np.array([[sigma2_q]])\n",
    "  f.R = np.array([[sigma2_r]])\n",
    "\n",
    "  mse_total = 0.0\n",
    "  error_list = []\n",
    "\n",
    "  for z in y:\n",
    "    f.predict()\n",
    "    y_pred = float(f.measurement_of_state(f.x))\n",
    "    z = float(z)\n",
    "    mse = (y_pred - z)**2\n",
    "\n",
    "    error_list.append(mse)\n",
    "    mse_total += mse\n",
    "\n",
    "    f.update(z)\n",
    "  return mse_total, error_list"
   ]
  },
  {
   "cell_type": "code",
   "execution_count": 35,
   "metadata": {
    "id": "Gx5EsmW2NgNe"
   },
   "outputs": [],
   "source": [
    "def make_energy_random_walk(y, x0, P0):\n",
    "\n",
    "  def energy_fun(theta):\n",
    "    log_sigma2_q = theta[0]\n",
    "    log_sigma2_r = theta[1]\n",
    "    sigma2_q = np.exp(log_sigma2_q) #sigma needs to be non-negative\n",
    "    sigma2_r = np.exp(log_sigma2_r) #sigma needs to be non-negative\n",
    "\n",
    "    f = KalmanFilter (dim_x=1, dim_z=1)\n",
    "\n",
    "    f.x = np.array([[x0]])\n",
    "\n",
    "    f.F = np.array([[1.0]])\n",
    "    f.H = np.array([[1.0]])\n",
    "\n",
    "    # Initial covariance\n",
    "    f.P = np.array([[P0]])\n",
    "\n",
    "    # Process Noise\n",
    "    f.Q = np.array([[sigma2_q]])\n",
    "    f.R = np.array([[sigma2_r]])\n",
    "\n",
    "    score = 0.0\n",
    "\n",
    "    for z in y:\n",
    "      f.predict()\n",
    "      f.update(z)\n",
    "      score += f.log_likelihood\n",
    "    return -score\n",
    "\n",
    "  return energy_fun"
   ]
  },
  {
   "cell_type": "code",
   "execution_count": 38,
   "metadata": {
    "id": "nzvURBWVNiwu"
   },
   "outputs": [],
   "source": [
    "def fit_and_predict_random_walk(y, x0, P0):\n",
    "  # Fit maximum likelihood\n",
    "  energy_fun = make_energy_random_walk(y, x0=x0, P0=P0) # Use provided x0 and P0\n",
    "  theta0 = np.array([np.log(1.0),np.log(1.0)]) # Correct initial guess for log_sigma2_q and log_sigma2_r\n",
    "  res = opt.minimize(energy_fun, theta0)\n",
    "\n",
    "  # Compute MSE for fitted model\n",
    "  log_sigma2_q = res.x[0]\n",
    "  log_sigma2_r = res.x[1]\n",
    "  sigma2_q = np.exp(log_sigma2_q)\n",
    "  sigma2_r = np.exp(log_sigma2_r)\n",
    "\n",
    "  mse, error_list = predict_random_walk(y, sigma2_q, sigma2_r, x0, P0)\n",
    "  filtered_states, filtered_obs = filter_random_walk(y, sigma2_q, sigma2_r, x0, P0)\n",
    "\n",
    "  return res, mse, error_list, filtered_states, filtered_obs"
   ]
  },
  {
   "cell_type": "code",
   "execution_count": null,
   "metadata": {
    "colab": {
     "base_uri": "https://localhost:8080/"
    },
    "id": "a4D94RG8Nl8e",
    "outputId": "d5ba6d75-5493-4437-fb8b-8697d3bde44c"
   },
   "outputs": [],
   "source": [
    "# Define initial values for x0 and P0\n",
    "initial_price = y[0] # Use the first observed price as initial state estimate\n",
    "initial_uncertainty = 1.0 # Initial uncertainty in the state\n",
    "\n",
    "# Use only the first 1000 rows for faster execution\n",
    "y_subset = y[:1000]\n",
    "\n",
    "res, mse, error_list, filtered_states, filtered_obs = fit_and_predict_random_walk(y_subset, initial_price, initial_uncertainty)"
   ]
  },
  {
   "cell_type": "code",
   "execution_count": null,
   "metadata": {
    "id": "Dhxb8MyVwgC_"
   },
   "outputs": [],
   "source": [
    "# Extract fitted noise variances\n",
    "sigma2_q = np.exp(res.x[0])\n",
    "sigma2_r = np.exp(res.x[1])\n",
    "\n",
    "# Fit on training data\n",
    "res, mse, error_list, filtered_states_train, _ = fit_and_predict_random_walk(\n",
    "    y_train, x0=y_train[0], P0=1.0\n",
    ")\n",
    "filtered_states_train = np.array(filtered_states_train, dtype=float).ravel()\n",
    "\n",
    "# Predict on test data (1-step ahead)\n",
    "last_state = filtered_states_train[-1]\n",
    "P_last = 1.0\n",
    "filt_test, _ = filter_random_walk(y_test, sigma2_q, sigma2_r, last_state, P_last)\n",
    "filt_test = np.array(filt_test, dtype=float).ravel()\n",
    "\n",
    "\n",
    "# Plot\n",
    "plt.plot(x, y, color=\"orange\", label=\"observations\")\n",
    "# draws vertical line at x-coordinate x_train[-1]\n",
    "plt.axvline(x_train[-1], color=\"orange\", linestyle=\"--\", label=\"train/test split\")\n",
    "plt.plot(x_train, filtered_states_train, color=\"deepskyblue\", label=\"filtered state (train)\")\n",
    "plt.plot(x_test, filt_test, color=\"teal\", label=\"1-step preds (test)\")\n",
    "plt.title(\"Random Walk Kalman Filter — Train/Test\")\n",
    "plt.xlabel(\"Index\")\n",
    "plt.ylabel(\"Price\")\n",
    "plt.legend()\n",
    "plt.show()"
   ]
  },
  {
   "cell_type": "code",
   "execution_count": null,
   "metadata": {
    "id": "dASatLdKyeRq"
   },
   "outputs": [],
   "source": []
  }
 ],
 "metadata": {
  "colab": {
   "authorship_tag": "ABX9TyPhGdwQ/czFJSqxwT48n4zA",
   "include_colab_link": true,
   "provenance": []
  },
  "kernelspec": {
   "display_name": "Python 3 (ipykernel)",
   "language": "python",
   "name": "python3"
  },
  "language_info": {
   "codemirror_mode": {
    "name": "ipython",
    "version": 3
   },
   "file_extension": ".py",
   "mimetype": "text/x-python",
   "name": "python",
   "nbconvert_exporter": "python",
   "pygments_lexer": "ipython3",
   "version": "3.12.4"
  }
 },
 "nbformat": 4,
 "nbformat_minor": 4
}
